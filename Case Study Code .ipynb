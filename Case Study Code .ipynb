{
 "cells": [
  {
   "cell_type": "code",
   "execution_count": 1,
   "id": "efbe1df7",
   "metadata": {},
   "outputs": [],
   "source": [
    "import pandas as pd \n",
    "import numpy as np \n",
    "import matplotlib.pyplot as plt "
   ]
  },
  {
   "cell_type": "code",
   "execution_count": 2,
   "id": "ebdf8635",
   "metadata": {},
   "outputs": [],
   "source": [
    "df = pd.read_csv(\"startup_funding.csv\")"
   ]
  },
  {
   "cell_type": "code",
   "execution_count": 3,
   "id": "bee7d0fb",
   "metadata": {},
   "outputs": [
    {
     "data": {
      "text/html": [
       "<div>\n",
       "<style scoped>\n",
       "    .dataframe tbody tr th:only-of-type {\n",
       "        vertical-align: middle;\n",
       "    }\n",
       "\n",
       "    .dataframe tbody tr th {\n",
       "        vertical-align: top;\n",
       "    }\n",
       "\n",
       "    .dataframe thead th {\n",
       "        text-align: right;\n",
       "    }\n",
       "</style>\n",
       "<table border=\"1\" class=\"dataframe\">\n",
       "  <thead>\n",
       "    <tr style=\"text-align: right;\">\n",
       "      <th></th>\n",
       "      <th>SNo</th>\n",
       "      <th>Date</th>\n",
       "      <th>StartupName</th>\n",
       "      <th>IndustryVertical</th>\n",
       "      <th>SubVertical</th>\n",
       "      <th>CityLocation</th>\n",
       "      <th>InvestorsName</th>\n",
       "      <th>InvestmentType</th>\n",
       "      <th>AmountInUSD</th>\n",
       "      <th>Remarks</th>\n",
       "    </tr>\n",
       "  </thead>\n",
       "  <tbody>\n",
       "    <tr>\n",
       "      <th>0</th>\n",
       "      <td>0</td>\n",
       "      <td>01/08/2017</td>\n",
       "      <td>TouchKin</td>\n",
       "      <td>Technology</td>\n",
       "      <td>Predictive Care Platform</td>\n",
       "      <td>Bangalore</td>\n",
       "      <td>Kae Capital</td>\n",
       "      <td>Private Equity</td>\n",
       "      <td>1,300,000</td>\n",
       "      <td>NaN</td>\n",
       "    </tr>\n",
       "    <tr>\n",
       "      <th>1</th>\n",
       "      <td>1</td>\n",
       "      <td>02/08/2017</td>\n",
       "      <td>Ethinos</td>\n",
       "      <td>Technology</td>\n",
       "      <td>Digital Marketing Agency</td>\n",
       "      <td>Mumbai</td>\n",
       "      <td>Triton Investment Advisors</td>\n",
       "      <td>Private Equity</td>\n",
       "      <td>NaN</td>\n",
       "      <td>NaN</td>\n",
       "    </tr>\n",
       "    <tr>\n",
       "      <th>2</th>\n",
       "      <td>2</td>\n",
       "      <td>02/08/2017</td>\n",
       "      <td>Leverage Edu</td>\n",
       "      <td>Consumer Internet</td>\n",
       "      <td>Online platform for Higher Education Services</td>\n",
       "      <td>New Delhi</td>\n",
       "      <td>Kashyap Deorah, Anand Sankeshwar, Deepak Jain,...</td>\n",
       "      <td>Seed Funding</td>\n",
       "      <td>NaN</td>\n",
       "      <td>NaN</td>\n",
       "    </tr>\n",
       "    <tr>\n",
       "      <th>3</th>\n",
       "      <td>3</td>\n",
       "      <td>02/08/2017</td>\n",
       "      <td>Zepo</td>\n",
       "      <td>Consumer Internet</td>\n",
       "      <td>DIY Ecommerce platform</td>\n",
       "      <td>Mumbai</td>\n",
       "      <td>Kunal Shah, LetsVenture, Anupam Mittal, Hetal ...</td>\n",
       "      <td>Seed Funding</td>\n",
       "      <td>500,000</td>\n",
       "      <td>NaN</td>\n",
       "    </tr>\n",
       "    <tr>\n",
       "      <th>4</th>\n",
       "      <td>4</td>\n",
       "      <td>02/08/2017</td>\n",
       "      <td>Click2Clinic</td>\n",
       "      <td>Consumer Internet</td>\n",
       "      <td>healthcare service aggregator</td>\n",
       "      <td>Hyderabad</td>\n",
       "      <td>Narottam Thudi, Shireesh Palle</td>\n",
       "      <td>Seed Funding</td>\n",
       "      <td>850,000</td>\n",
       "      <td>NaN</td>\n",
       "    </tr>\n",
       "  </tbody>\n",
       "</table>\n",
       "</div>"
      ],
      "text/plain": [
       "   SNo        Date   StartupName   IndustryVertical  \\\n",
       "0    0  01/08/2017      TouchKin         Technology   \n",
       "1    1  02/08/2017       Ethinos         Technology   \n",
       "2    2  02/08/2017  Leverage Edu  Consumer Internet   \n",
       "3    3  02/08/2017          Zepo  Consumer Internet   \n",
       "4    4  02/08/2017  Click2Clinic  Consumer Internet   \n",
       "\n",
       "                                     SubVertical CityLocation  \\\n",
       "0                       Predictive Care Platform    Bangalore   \n",
       "1                       Digital Marketing Agency       Mumbai   \n",
       "2  Online platform for Higher Education Services    New Delhi   \n",
       "3                         DIY Ecommerce platform       Mumbai   \n",
       "4                  healthcare service aggregator    Hyderabad   \n",
       "\n",
       "                                       InvestorsName  InvestmentType  \\\n",
       "0                                        Kae Capital  Private Equity   \n",
       "1                         Triton Investment Advisors  Private Equity   \n",
       "2  Kashyap Deorah, Anand Sankeshwar, Deepak Jain,...    Seed Funding   \n",
       "3  Kunal Shah, LetsVenture, Anupam Mittal, Hetal ...    Seed Funding   \n",
       "4                     Narottam Thudi, Shireesh Palle    Seed Funding   \n",
       "\n",
       "  AmountInUSD Remarks  \n",
       "0   1,300,000     NaN  \n",
       "1         NaN     NaN  \n",
       "2         NaN     NaN  \n",
       "3     500,000     NaN  \n",
       "4     850,000     NaN  "
      ]
     },
     "execution_count": 3,
     "metadata": {},
     "output_type": "execute_result"
    }
   ],
   "source": [
    "df.head()"
   ]
  },
  {
   "cell_type": "code",
   "execution_count": 4,
   "id": "975e25fc",
   "metadata": {},
   "outputs": [
    {
     "data": {
      "text/plain": [
       "(2372, 10)"
      ]
     },
     "execution_count": 4,
     "metadata": {},
     "output_type": "execute_result"
    }
   ],
   "source": [
    "df.shape "
   ]
  },
  {
   "cell_type": "code",
   "execution_count": 5,
   "id": "06dbf54d",
   "metadata": {},
   "outputs": [
    {
     "name": "stdout",
     "output_type": "stream",
     "text": [
      "<class 'pandas.core.frame.DataFrame'>\n",
      "RangeIndex: 2372 entries, 0 to 2371\n",
      "Data columns (total 10 columns):\n",
      " #   Column            Non-Null Count  Dtype \n",
      "---  ------            --------------  ----- \n",
      " 0   SNo               2372 non-null   int64 \n",
      " 1   Date              2372 non-null   object\n",
      " 2   StartupName       2372 non-null   object\n",
      " 3   IndustryVertical  2201 non-null   object\n",
      " 4   SubVertical       1436 non-null   object\n",
      " 5   CityLocation      2193 non-null   object\n",
      " 6   InvestorsName     2364 non-null   object\n",
      " 7   InvestmentType    2371 non-null   object\n",
      " 8   AmountInUSD       1525 non-null   object\n",
      " 9   Remarks           419 non-null    object\n",
      "dtypes: int64(1), object(9)\n",
      "memory usage: 185.4+ KB\n"
     ]
    }
   ],
   "source": [
    "df.info()"
   ]
  },
  {
   "cell_type": "code",
   "execution_count": 6,
   "id": "75d7b6db",
   "metadata": {},
   "outputs": [
    {
     "data": {
      "text/plain": [
       "SNo                    0\n",
       "Date                   0\n",
       "StartupName            0\n",
       "IndustryVertical     171\n",
       "SubVertical          936\n",
       "CityLocation         179\n",
       "InvestorsName          8\n",
       "InvestmentType         1\n",
       "AmountInUSD          847\n",
       "Remarks             1953\n",
       "dtype: int64"
      ]
     },
     "execution_count": 6,
     "metadata": {},
     "output_type": "execute_result"
    }
   ],
   "source": [
    "df.isnull().sum()"
   ]
  },
  {
   "cell_type": "markdown",
   "id": "88f4342c",
   "metadata": {},
   "source": [
    "#### Answer 1 "
   ]
  },
  {
   "cell_type": "code",
   "execution_count": 7,
   "id": "e3f88758",
   "metadata": {},
   "outputs": [
    {
     "data": {
      "text/plain": [
       "array(['Bangalore', 'Mumbai', 'New Delhi', 'Hyderabad', 'Ahmedabad',\n",
       "       'Gurgaon', 'Noida', 'Pune', 'Kolkata', 'bangalore', 'Trivandrum',\n",
       "       'Chennai', 'Chandigarh', 'Jaipur', 'Vadodara', 'Surat',\n",
       "       'Missourie', 'Panaji', 'Gwalior', 'Karur', 'Udupi', 'Kochi',\n",
       "       'Indore', 'Singapore', 'Goa', 'Agra', 'Bangalore/ Bangkok',\n",
       "       'Hubli', 'Delhi', 'Kerala', 'Kozhikode', 'US', 'Coimbatore',\n",
       "       'Siliguri', nan, 'USA', 'Lucknow', 'Kanpur', 'SFO / Bangalore',\n",
       "       'London', 'Seattle / Bangalore', 'Pune/Seattle', 'Pune / Dubai',\n",
       "       'Bangalore / SFO', 'Varanasi', 'Bhopal', 'New Delhi / US',\n",
       "       'Mumbai / UK', 'Jodhpur', 'Hyderabad/USA', 'Boston',\n",
       "       'Bangalore / Palo Alto', 'Mumbai / NY', 'USA/India',\n",
       "       'Goa/Hyderabad', 'Noida / Singapore', 'Belgaum', 'Pune / US',\n",
       "       'Chennai/ Singapore', 'Pune / Singapore', 'Bangalore / San Mateo',\n",
       "       'New York/ India', 'US/India', 'Gurgaon / SFO', 'Bangalore / USA',\n",
       "       'New Delhi/ Houston', 'Nagpur', 'Mumbai / Global', 'India / US',\n",
       "       'Udaipur', 'New Delhi / California', 'Dallas / Hyderabad'],\n",
       "      dtype=object)"
      ]
     },
     "execution_count": 7,
     "metadata": {},
     "output_type": "execute_result"
    }
   ],
   "source": [
    "df[\"CityLocation\"].unique()"
   ]
  },
  {
   "cell_type": "code",
   "execution_count": 8,
   "id": "159535bf",
   "metadata": {},
   "outputs": [],
   "source": [
    "df[\"City\"] = df[\"CityLocation\"].replace({\"Delhi\":\"New Delhi\",\"bangalore\":\"Bangalore\"})"
   ]
  },
  {
   "cell_type": "code",
   "execution_count": 9,
   "id": "42413b41",
   "metadata": {},
   "outputs": [],
   "source": [
    "city_df = df[\"City\"].str.split(\"/\").str[0].str.strip().value_counts().reset_index().rename(columns={\"index\":\"City\",\"City\":\"no_of_funding\"})"
   ]
  },
  {
   "cell_type": "code",
   "execution_count": 10,
   "id": "2adb060c",
   "metadata": {},
   "outputs": [
    {
     "data": {
      "text/html": [
       "<div>\n",
       "<style scoped>\n",
       "    .dataframe tbody tr th:only-of-type {\n",
       "        vertical-align: middle;\n",
       "    }\n",
       "\n",
       "    .dataframe tbody tr th {\n",
       "        vertical-align: top;\n",
       "    }\n",
       "\n",
       "    .dataframe thead th {\n",
       "        text-align: right;\n",
       "    }\n",
       "</style>\n",
       "<table border=\"1\" class=\"dataframe\">\n",
       "  <thead>\n",
       "    <tr style=\"text-align: right;\">\n",
       "      <th></th>\n",
       "      <th>City</th>\n",
       "      <th>no_of_funding</th>\n",
       "    </tr>\n",
       "  </thead>\n",
       "  <tbody>\n",
       "    <tr>\n",
       "      <th>0</th>\n",
       "      <td>Bangalore</td>\n",
       "      <td>635</td>\n",
       "    </tr>\n",
       "    <tr>\n",
       "      <th>1</th>\n",
       "      <td>Mumbai</td>\n",
       "      <td>449</td>\n",
       "    </tr>\n",
       "    <tr>\n",
       "      <th>2</th>\n",
       "      <td>New Delhi</td>\n",
       "      <td>389</td>\n",
       "    </tr>\n",
       "    <tr>\n",
       "      <th>3</th>\n",
       "      <td>Gurgaon</td>\n",
       "      <td>241</td>\n",
       "    </tr>\n",
       "    <tr>\n",
       "      <th>4</th>\n",
       "      <td>Pune</td>\n",
       "      <td>91</td>\n",
       "    </tr>\n",
       "  </tbody>\n",
       "</table>\n",
       "</div>"
      ],
      "text/plain": [
       "        City  no_of_funding\n",
       "0  Bangalore            635\n",
       "1     Mumbai            449\n",
       "2  New Delhi            389\n",
       "3    Gurgaon            241\n",
       "4       Pune             91"
      ]
     },
     "execution_count": 10,
     "metadata": {},
     "output_type": "execute_result"
    }
   ],
   "source": [
    "city_df.head()"
   ]
  },
  {
   "cell_type": "code",
   "execution_count": 11,
   "id": "89bd7764",
   "metadata": {},
   "outputs": [
    {
     "data": {
      "image/png": "[encoded data removed]",
      "text/plain": [
       "<Figure size 1008x360 with 1 Axes>"
      ]
     },
     "metadata": {
      "needs_background": "light"
     },
     "output_type": "display_data"
    }
   ],
   "source": [
    "plt.figure(figsize=(14,5))\n",
    "plt.style.use(\"ggplot\")\n",
    "plt.bar(city_df[\"City\"],city_df[\"no_of_funding\"],color=\"green\")\n",
    "plt.xticks(rotation = 70)\n",
    "plt.title(\"Location Vs No. of funding\")\n",
    "plt.xlabel(\"Location\")\n",
    "plt.ylabel(\"No. of funding\")\n",
    "plt.tight_layout()\n",
    "plt.show()"
   ]
  },
  {
   "cell_type": "code",
   "execution_count": 12,
   "id": "8c4cee60",
   "metadata": {},
   "outputs": [],
   "source": [
    "city_df[\"City\"] = city_df[\"City\"].replace({\"New Delhi\":\"NCR\",\"Gurgaon\":\"NCR\",\"Noida\":\"NCR\"})"
   ]
  },
  {
   "cell_type": "code",
   "execution_count": 13,
   "id": "9eb2e557",
   "metadata": {},
   "outputs": [],
   "source": [
    "top_3_city = (city_df.groupby(\"City\").sum().sort_values(by=\"no_of_funding\",ascending=False) * 100.0/city_df[\"no_of_funding\"].sum())[:3]"
   ]
  },
  {
   "cell_type": "code",
   "execution_count": 14,
   "id": "306434ae",
   "metadata": {},
   "outputs": [
    {
     "data": {
      "text/html": [
       "<div>\n",
       "<style scoped>\n",
       "    .dataframe tbody tr th:only-of-type {\n",
       "        vertical-align: middle;\n",
       "    }\n",
       "\n",
       "    .dataframe tbody tr th {\n",
       "        vertical-align: top;\n",
       "    }\n",
       "\n",
       "    .dataframe thead th {\n",
       "        text-align: right;\n",
       "    }\n",
       "</style>\n",
       "<table border=\"1\" class=\"dataframe\">\n",
       "  <thead>\n",
       "    <tr style=\"text-align: right;\">\n",
       "      <th></th>\n",
       "      <th>no_of_funding</th>\n",
       "    </tr>\n",
       "    <tr>\n",
       "      <th>City</th>\n",
       "      <th></th>\n",
       "    </tr>\n",
       "  </thead>\n",
       "  <tbody>\n",
       "    <tr>\n",
       "      <th>NCR</th>\n",
       "      <td>32.330141</td>\n",
       "    </tr>\n",
       "    <tr>\n",
       "      <th>Bangalore</th>\n",
       "      <td>28.955768</td>\n",
       "    </tr>\n",
       "    <tr>\n",
       "      <th>Mumbai</th>\n",
       "      <td>20.474236</td>\n",
       "    </tr>\n",
       "  </tbody>\n",
       "</table>\n",
       "</div>"
      ],
      "text/plain": [
       "           no_of_funding\n",
       "City                    \n",
       "NCR            32.330141\n",
       "Bangalore      28.955768\n",
       "Mumbai         20.474236"
      ]
     },
     "execution_count": 14,
     "metadata": {},
     "output_type": "execute_result"
    }
   ],
   "source": [
    "top_3_city"
   ]
  },
  {
   "cell_type": "markdown",
   "id": "c7a90504",
   "metadata": {},
   "source": [
    "* So 82% of the total funding came from these 3 location so there will be higher chance that he would get investment "
   ]
  },
  {
   "cell_type": "markdown",
   "id": "6645b477",
   "metadata": {},
   "source": [
    "#### answer 2 "
   ]
  },
  {
   "cell_type": "code",
   "execution_count": 15,
   "id": "3fce46a0",
   "metadata": {},
   "outputs": [],
   "source": [
    "df[\"InvestorsName\"] = df[\"InvestorsName\"].fillna(\"Dummy\")"
   ]
  },
  {
   "cell_type": "code",
   "execution_count": 16,
   "id": "b83fc198",
   "metadata": {},
   "outputs": [],
   "source": [
    "investor_df = df.copy()"
   ]
  },
  {
   "cell_type": "code",
   "execution_count": 17,
   "id": "4ca771d1",
   "metadata": {},
   "outputs": [],
   "source": [
    "startup_name = []\n",
    "investor_name = []\n",
    "invest_type = []\n",
    "\n",
    "for i in range(len(investor_df)):\n",
    "    var1 = investor_df[\"StartupName\"][i]\n",
    "    var2 = investor_df[\"InvestorsName\"][i]\n",
    "    var3 = var2.split(\",\")\n",
    "    var4 = investor_df[\"InvestmentType\"][i]\n",
    "    \n",
    "    for j in range(len(var3)):\n",
    "        startup_name.append(var1)\n",
    "        investor_name.append(var3[j].strip())\n",
    "        invest_type.append(var4)"
   ]
  },
  {
   "cell_type": "code",
   "execution_count": 18,
   "id": "9bd4fa50",
   "metadata": {},
   "outputs": [
    {
     "data": {
      "text/html": [
       "<div>\n",
       "<style scoped>\n",
       "    .dataframe tbody tr th:only-of-type {\n",
       "        vertical-align: middle;\n",
       "    }\n",
       "\n",
       "    .dataframe tbody tr th {\n",
       "        vertical-align: top;\n",
       "    }\n",
       "\n",
       "    .dataframe thead th {\n",
       "        text-align: right;\n",
       "    }\n",
       "</style>\n",
       "<table border=\"1\" class=\"dataframe\">\n",
       "  <thead>\n",
       "    <tr style=\"text-align: right;\">\n",
       "      <th></th>\n",
       "      <th>startupname</th>\n",
       "      <th>investors</th>\n",
       "      <th>invest_type</th>\n",
       "    </tr>\n",
       "  </thead>\n",
       "  <tbody>\n",
       "    <tr>\n",
       "      <th>0</th>\n",
       "      <td>TouchKin</td>\n",
       "      <td>Kae Capital</td>\n",
       "      <td>Private Equity</td>\n",
       "    </tr>\n",
       "    <tr>\n",
       "      <th>1</th>\n",
       "      <td>Ethinos</td>\n",
       "      <td>Triton Investment Advisors</td>\n",
       "      <td>Private Equity</td>\n",
       "    </tr>\n",
       "    <tr>\n",
       "      <th>2</th>\n",
       "      <td>Leverage Edu</td>\n",
       "      <td>Kashyap Deorah</td>\n",
       "      <td>Seed Funding</td>\n",
       "    </tr>\n",
       "    <tr>\n",
       "      <th>3</th>\n",
       "      <td>Leverage Edu</td>\n",
       "      <td>Anand Sankeshwar</td>\n",
       "      <td>Seed Funding</td>\n",
       "    </tr>\n",
       "    <tr>\n",
       "      <th>4</th>\n",
       "      <td>Leverage Edu</td>\n",
       "      <td>Deepak Jain</td>\n",
       "      <td>Seed Funding</td>\n",
       "    </tr>\n",
       "  </tbody>\n",
       "</table>\n",
       "</div>"
      ],
      "text/plain": [
       "    startupname                   investors     invest_type\n",
       "0      TouchKin                 Kae Capital  Private Equity\n",
       "1       Ethinos  Triton Investment Advisors  Private Equity\n",
       "2  Leverage Edu              Kashyap Deorah    Seed Funding\n",
       "3  Leverage Edu            Anand Sankeshwar    Seed Funding\n",
       "4  Leverage Edu                 Deepak Jain    Seed Funding"
      ]
     },
     "execution_count": 18,
     "metadata": {},
     "output_type": "execute_result"
    }
   ],
   "source": [
    "startup_df = pd.DataFrame({\"startupname\":startup_name,\"investors\":investor_name,\"invest_type\":invest_type})\n",
    "startup_df.head()"
   ]
  },
  {
   "cell_type": "code",
   "execution_count": 19,
   "id": "646de631",
   "metadata": {
    "scrolled": false
   },
   "outputs": [
    {
     "data": {
      "text/plain": [
       "(4577, 3)"
      ]
     },
     "execution_count": 19,
     "metadata": {},
     "output_type": "execute_result"
    }
   ],
   "source": [
    "startup_df.shape"
   ]
  },
  {
   "cell_type": "markdown",
   "id": "4feb987e",
   "metadata": {},
   "source": [
    "* Correct the error in investment type field "
   ]
  },
  {
   "cell_type": "code",
   "execution_count": 20,
   "id": "9d177ac3",
   "metadata": {},
   "outputs": [
    {
     "data": {
      "text/plain": [
       "array(['Private Equity', 'Seed Funding', 'Debt Funding', nan,\n",
       "       'SeedFunding', 'PrivateEquity', 'Crowd funding', 'Crowd Funding'],\n",
       "      dtype=object)"
      ]
     },
     "execution_count": 20,
     "metadata": {},
     "output_type": "execute_result"
    }
   ],
   "source": [
    "startup_df[\"invest_type\"].unique()"
   ]
  },
  {
   "cell_type": "code",
   "execution_count": 21,
   "id": "b34073b8",
   "metadata": {},
   "outputs": [],
   "source": [
    "startup_df[\"invest_type\"] = startup_df[\"invest_type\"].replace({\"Crowd funding\":\"Crowd Funding\",\"PrivateEquity\":\"Private Equity\",\"SeedFunding\":\"Seed Funding\"})"
   ]
  },
  {
   "cell_type": "code",
   "execution_count": 22,
   "id": "9d66dfcb",
   "metadata": {},
   "outputs": [
    {
     "data": {
      "text/plain": [
       "array(['Paytm', 'Paytm Marketplace'], dtype=object)"
      ]
     },
     "execution_count": 22,
     "metadata": {},
     "output_type": "execute_result"
    }
   ],
   "source": [
    "startup_df[startup_df[\"startupname\"].str.find(\"ytm\")!=-1][\"startupname\"].unique()"
   ]
  },
  {
   "cell_type": "code",
   "execution_count": 23,
   "id": "a156dc38",
   "metadata": {},
   "outputs": [
    {
     "data": {
      "text/plain": [
       "array(['Flipkart', 'Lenskart', 'Schoolkart', 'Splitkart', 'Lendingkart',\n",
       "       'Omnikart', 'Flipkart.com', '1mg (Healthkartplus)', 'Fxkart.com'],\n",
       "      dtype=object)"
      ]
     },
     "execution_count": 23,
     "metadata": {},
     "output_type": "execute_result"
    }
   ],
   "source": [
    "startup_df[startup_df[\"startupname\"].str.find(\"kart\")!=-1][\"startupname\"].unique()"
   ]
  },
  {
   "cell_type": "code",
   "execution_count": 24,
   "id": "56875798",
   "metadata": {},
   "outputs": [
    {
     "data": {
      "text/plain": [
       "array(['Stylflip'], dtype=object)"
      ]
     },
     "execution_count": 24,
     "metadata": {},
     "output_type": "execute_result"
    }
   ],
   "source": [
    "startup_df[startup_df[\"startupname\"].str.find(\"flip\")!=-1][\"startupname\"].unique()"
   ]
  },
  {
   "cell_type": "code",
   "execution_count": 25,
   "id": "6bc2259b",
   "metadata": {},
   "outputs": [
    {
     "data": {
      "text/plain": [
       "array(['HolaChef', 'Oriano Solar', 'Truckola', 'SolarTown', 'Kolabro',\n",
       "       'EzySolare', 'Applied Solar Technologies', 'Holachef'],\n",
       "      dtype=object)"
      ]
     },
     "execution_count": 25,
     "metadata": {},
     "output_type": "execute_result"
    }
   ],
   "source": [
    "startup_df[startup_df[\"startupname\"].str.find(\"ola\")!=-1][\"startupname\"].unique()"
   ]
  },
  {
   "cell_type": "code",
   "execution_count": 26,
   "id": "b3061304",
   "metadata": {},
   "outputs": [
    {
     "data": {
      "text/plain": [
       "array(['Ola', 'Ola Cabs', 'Olacabs'], dtype=object)"
      ]
     },
     "execution_count": 26,
     "metadata": {},
     "output_type": "execute_result"
    }
   ],
   "source": [
    "startup_df[startup_df[\"startupname\"].str.find(\"Ola\")!=-1][\"startupname\"].unique()"
   ]
  },
  {
   "cell_type": "code",
   "execution_count": 27,
   "id": "b1184e0f",
   "metadata": {},
   "outputs": [
    {
     "data": {
      "text/plain": [
       "array(['Ideal Insurance', 'Snapdeal', 'Bestdealfinance'], dtype=object)"
      ]
     },
     "execution_count": 27,
     "metadata": {},
     "output_type": "execute_result"
    }
   ],
   "source": [
    "startup_df[startup_df[\"startupname\"].str.find(\"deal\")!=-1][\"startupname\"].unique()"
   ]
  },
  {
   "cell_type": "code",
   "execution_count": 28,
   "id": "e09a2b4d",
   "metadata": {},
   "outputs": [
    {
     "data": {
      "text/plain": [
       "array(['Deal4Loans / Wishfin', 'Deal 4Loans', 'Deal Street Asia',\n",
       "       'Dealwithus'], dtype=object)"
      ]
     },
     "execution_count": 28,
     "metadata": {},
     "output_type": "execute_result"
    }
   ],
   "source": [
    "startup_df[startup_df[\"startupname\"].str.find(\"Deal\")!=-1][\"startupname\"].unique()"
   ]
  },
  {
   "cell_type": "code",
   "execution_count": 29,
   "id": "1b579dfd",
   "metadata": {},
   "outputs": [
    {
     "data": {
      "text/plain": [
       "array(['Snapdeal', 'Snapbizz', 'Snapshopr', 'SnapBizz'], dtype=object)"
      ]
     },
     "execution_count": 29,
     "metadata": {},
     "output_type": "execute_result"
    }
   ],
   "source": [
    "startup_df[startup_df[\"startupname\"].str.find(\"Snap\")!=-1][\"startupname\"].unique()"
   ]
  },
  {
   "cell_type": "code",
   "execution_count": 30,
   "id": "05793816",
   "metadata": {},
   "outputs": [
    {
     "data": {
      "text/plain": [
       "array([], dtype=object)"
      ]
     },
     "execution_count": 30,
     "metadata": {},
     "output_type": "execute_result"
    }
   ],
   "source": [
    "startup_df[startup_df[\"startupname\"].str.find(\"snap\")!=-1][\"startupname\"].unique()"
   ]
  },
  {
   "cell_type": "code",
   "execution_count": 31,
   "id": "23eef584",
   "metadata": {},
   "outputs": [
    {
     "data": {
      "text/plain": [
       "array(['Vista Rooms', 'Oyo Rooms', 'First Moms Club', 'OyoRooms',\n",
       "       'RoomsTonite', 'Deyor Rooms', 'Oyorooms', 'Zo Rooms', 'OYO Rooms'],\n",
       "      dtype=object)"
      ]
     },
     "execution_count": 31,
     "metadata": {},
     "output_type": "execute_result"
    }
   ],
   "source": [
    "startup_df[startup_df[\"startupname\"].str.find(\"oms\")!=-1][\"startupname\"].unique()"
   ]
  },
  {
   "cell_type": "code",
   "execution_count": 32,
   "id": "5fc3456b",
   "metadata": {
    "scrolled": true
   },
   "outputs": [
    {
     "data": {
      "text/plain": [
       "array(['OYOfit', 'OYO Rooms'], dtype=object)"
      ]
     },
     "execution_count": 32,
     "metadata": {},
     "output_type": "execute_result"
    }
   ],
   "source": [
    "startup_df[startup_df[\"startupname\"].str.find(\"OYO\")!=-1][\"startupname\"].unique()"
   ]
  },
  {
   "cell_type": "code",
   "execution_count": 33,
   "id": "4d360d6c",
   "metadata": {
    "scrolled": true
   },
   "outputs": [
    {
     "data": {
      "text/plain": [
       "array(['Oyo Rooms', 'OyoRooms', 'Oyo', 'Oyorooms'], dtype=object)"
      ]
     },
     "execution_count": 33,
     "metadata": {},
     "output_type": "execute_result"
    }
   ],
   "source": [
    "startup_df[startup_df[\"startupname\"].str.find(\"Oyo\")!=-1][\"startupname\"].unique()"
   ]
  },
  {
   "cell_type": "markdown",
   "id": "9762add4",
   "metadata": {},
   "source": [
    "* Correct the error in startup name field "
   ]
  },
  {
   "cell_type": "code",
   "execution_count": 34,
   "id": "8ec15e92",
   "metadata": {},
   "outputs": [],
   "source": [
    "startup_df[\"startupname\"] = startup_df[\"startupname\"].replace({\"Paytm Marketplace\":\"Paytm\",\"Flipkart.com\":\"Flipkart\",'Ola Cabs':\"Ola\" ,'Olacabs':\"Ola\",\"Oyo Rooms\":\"OYO Rooms\",\"OyoRooms\":\"OYO Rooms\",\"Oyorooms\":\"OYO Rooms\",\"Oyo\":\"OYO Rooms\"})"
   ]
  },
  {
   "cell_type": "code",
   "execution_count": 35,
   "id": "a5693598",
   "metadata": {},
   "outputs": [
    {
     "data": {
      "text/plain": [
       "array([], dtype=object)"
      ]
     },
     "execution_count": 35,
     "metadata": {},
     "output_type": "execute_result"
    }
   ],
   "source": [
    "startup_df[startup_df[\"startupname\"].str.find(\"Oyo\")!=-1][\"startupname\"].unique()"
   ]
  },
  {
   "cell_type": "code",
   "execution_count": 36,
   "id": "e4578d27",
   "metadata": {},
   "outputs": [
    {
     "data": {
      "text/html": [
       "<div>\n",
       "<style scoped>\n",
       "    .dataframe tbody tr th:only-of-type {\n",
       "        vertical-align: middle;\n",
       "    }\n",
       "\n",
       "    .dataframe tbody tr th {\n",
       "        vertical-align: top;\n",
       "    }\n",
       "\n",
       "    .dataframe thead th {\n",
       "        text-align: right;\n",
       "    }\n",
       "</style>\n",
       "<table border=\"1\" class=\"dataframe\">\n",
       "  <thead>\n",
       "    <tr style=\"text-align: right;\">\n",
       "      <th></th>\n",
       "      <th>counts</th>\n",
       "    </tr>\n",
       "    <tr>\n",
       "      <th>investors</th>\n",
       "      <th></th>\n",
       "    </tr>\n",
       "  </thead>\n",
       "  <tbody>\n",
       "    <tr>\n",
       "      <th>Sequoia Capital</th>\n",
       "      <td>64</td>\n",
       "    </tr>\n",
       "    <tr>\n",
       "      <th>Accel Partners</th>\n",
       "      <td>53</td>\n",
       "    </tr>\n",
       "    <tr>\n",
       "      <th>Kalaari Capital</th>\n",
       "      <td>44</td>\n",
       "    </tr>\n",
       "    <tr>\n",
       "      <th>SAIF Partners</th>\n",
       "      <td>41</td>\n",
       "    </tr>\n",
       "    <tr>\n",
       "      <th>Indian Angel Network</th>\n",
       "      <td>40</td>\n",
       "    </tr>\n",
       "  </tbody>\n",
       "</table>\n",
       "</div>"
      ],
      "text/plain": [
       "                      counts\n",
       "investors                   \n",
       "Sequoia Capital           64\n",
       "Accel Partners            53\n",
       "Kalaari Capital           44\n",
       "SAIF Partners             41\n",
       "Indian Angel Network      40"
      ]
     },
     "execution_count": 36,
     "metadata": {},
     "output_type": "execute_result"
    }
   ],
   "source": [
    "startup_df.groupby(\"investors\").size().sort_values(ascending=False)[:5].to_frame(\"counts\")"
   ]
  },
  {
   "cell_type": "markdown",
   "id": "a7d0f775",
   "metadata": {},
   "source": [
    "#### answer 3"
   ]
  },
  {
   "cell_type": "code",
   "execution_count": 37,
   "id": "066b381b",
   "metadata": {},
   "outputs": [],
   "source": [
    "unique_invest = startup_df.groupby([\"startupname\",\"investors\"]).size().reset_index()"
   ]
  },
  {
   "cell_type": "code",
   "execution_count": 38,
   "id": "cc850a5d",
   "metadata": {},
   "outputs": [
    {
     "data": {
      "text/plain": [
       "Sequoia Capital         48\n",
       "Accel Partners          47\n",
       "Kalaari Capital         41\n",
       "Indian Angel Network    40\n",
       "Blume Ventures          36\n",
       "Name: investors, dtype: int64"
      ]
     },
     "execution_count": 38,
     "metadata": {},
     "output_type": "execute_result"
    }
   ],
   "source": [
    "unique_invest[unique_invest[\"investors\"]!=\"\"][\"investors\"].value_counts()[:5]"
   ]
  },
  {
   "cell_type": "markdown",
   "id": "1640ac95",
   "metadata": {},
   "source": [
    "####  answer 4 "
   ]
  },
  {
   "cell_type": "code",
   "execution_count": 39,
   "id": "333960f7",
   "metadata": {},
   "outputs": [],
   "source": [
    "early_df = startup_df[startup_df[\"invest_type\"].isin([\"Seed Funding\",\"Crowd Funding\"])]"
   ]
  },
  {
   "cell_type": "code",
   "execution_count": 40,
   "id": "7ea6cd44",
   "metadata": {},
   "outputs": [],
   "source": [
    "early_df_unique = early_df.groupby([\"startupname\",\"investors\"]).size().reset_index()"
   ]
  },
  {
   "cell_type": "code",
   "execution_count": 41,
   "id": "85262742",
   "metadata": {},
   "outputs": [
    {
     "data": {
      "text/plain": [
       "Indian Angel Network     33\n",
       "Undisclosed Investors    27\n",
       "Undisclosed investors    24\n",
       "Rajan Anandan            23\n",
       "Anupam Mittal            16\n",
       "Name: investors, dtype: int64"
      ]
     },
     "execution_count": 41,
     "metadata": {},
     "output_type": "execute_result"
    }
   ],
   "source": [
    "early_df_unique[early_df_unique[\"investors\"]!=\"\"][\"investors\"].value_counts()[:5]"
   ]
  },
  {
   "cell_type": "markdown",
   "id": "26814963",
   "metadata": {},
   "source": [
    "####  answer 5"
   ]
  },
  {
   "cell_type": "code",
   "execution_count": 42,
   "id": "1df79f6f",
   "metadata": {},
   "outputs": [],
   "source": [
    "growth_df = startup_df[startup_df[\"invest_type\"].isin([\"Private Equity\"])]"
   ]
  },
  {
   "cell_type": "code",
   "execution_count": 43,
   "id": "aa390485",
   "metadata": {},
   "outputs": [],
   "source": [
    "growth_df_unique = growth_df.groupby([\"startupname\",\"investors\"]).size().reset_index()"
   ]
  },
  {
   "cell_type": "code",
   "execution_count": 44,
   "id": "b21b5410",
   "metadata": {},
   "outputs": [
    {
     "data": {
      "text/plain": [
       "Sequoia Capital    45\n",
       "Accel Partners     43\n",
       "Kalaari Capital    35\n",
       "Blume Ventures     27\n",
       "SAIF Partners      24\n",
       "Name: investors, dtype: int64"
      ]
     },
     "execution_count": 44,
     "metadata": {},
     "output_type": "execute_result"
    }
   ],
   "source": [
    "growth_df_unique[\"investors\"].value_counts()[:5]"
   ]
  }
 ],
 "metadata": {
  "kernelspec": {
   "display_name": "Python 3 (ipykernel)",
   "language": "python",
   "name": "python3"
  },
  "language_info": {
   "codemirror_mode": {
    "name": "ipython",
    "version": 3
   },
   "file_extension": ".py",
   "mimetype": "text/x-python",
   "name": "python",
   "nbconvert_exporter": "python",
   "pygments_lexer": "ipython3",
   "version": "3.10.4"
  }
 },
 "nbformat": 4,
 "nbformat_minor": 5
}
